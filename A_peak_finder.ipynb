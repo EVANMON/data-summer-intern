{
 "cells": [
  {
   "cell_type": "markdown",
   "metadata": {
    "collapsed": true
   },
   "source": [
    "### Task A. Peak Finder\n",
    "\n",
    "这道题需要你用 Python 3 完成一个返回列表 “波峰”（局部最大值）的函数。举个例子，列表 `arr = [0, 1, 2, 5, 1, 0]` 在索引为 3 的位置上有一个波峰，峰值为 5 （ `arr[3]` 为 5 ）。\n",
    "\n",
    "你需要完成一个名为 `find_peaks` 的函数，该函数接收这个列表，并返回一个字典，字典形如 `{\"pos\": [], \"peaks\": []}` 。其中，`pos` 为波峰的索引列表，`peaks` 为峰值的列表，两个列表等长，互相对应，并且索引需从小到大排列。\n",
    "\n",
    "\n",
    "例如：\n",
    "\n",
    "```\n",
    "find_peaks([3, 2, 3, 6, 4, 1, 2, 3, 2, 1, 2, 3])\n",
    "```\n",
    "\n",
    "应该返回\n",
    "\n",
    "```\n",
    "{\"pos\": [3, 7], \"peaks\": [6, 3]}\n",
    "```\n",
    "\n",
    "所有的输入列表均是整数列表（不过也有可能是空列表），你可以不必在代码中专门验证输入。\n",
    "\n",
    "此外，列表中的第一项和最后一项不可能是峰值。\n",
    "\n",
    "对于类似于 `[1, 2, 2, 2, 1]` 的“平台”序列，只需要其平台开始的位置。例如 `find_peaks([1, 2, 2, 2, 1])` 应返回 `{\"pos\": [1], \"peaks\": [2]}`"
   ]
  },
  {
   "cell_type": "code",
   "execution_count": 1,
   "metadata": {},
   "outputs": [],
   "source": [
    "def find_peaks(arr):\n",
    "    # YOUR CODE HERE\n",
    "    arr_len = len(arr)                  # Length of Array\n",
    "    peak_dict = {\"pos\":[], \"peaks\":[]}  # Initial Dictionary\n",
    "    \n",
    "    # if there are less than 3 elements in the array\n",
    "    # there must exist no peak point\n",
    "    if arr_len < 3:\n",
    "        return peak_dict\n",
    "    \n",
    "    \n",
    "    else:\n",
    "        peak_pos = 0      # the possible peak point position  \n",
    "        i = 1\n",
    "        while i < arr_len:\n",
    "            if arr[i] > arr[peak_pos]:   # if current point is larger than the previous \n",
    "                peak_pos = i             # point, update the possible peak position to \n",
    "                i += 1                   # the current index\n",
    "                continue\n",
    "            elif arr[i] < arr[peak_pos]: # if current point is smaller than the possible peak\n",
    "                if peak_pos is not 0:    # add the peak point\n",
    "                    peak_dict[\"pos\"].append(peak_pos)\n",
    "                    peak_dict[\"peaks\"].append(arr[peak_pos])\n",
    "                \n",
    "                # move the possible peak position to the next rising point\n",
    "                while i+1 <= arr_len-1 and arr[i+1] <= arr[i]:\n",
    "                    i += 1\n",
    "                peak_pos = i+1\n",
    "                i = peak_pos + 1\n",
    "            else:\n",
    "                i += 1\n",
    "        return peak_dict"
   ]
  },
  {
   "cell_type": "code",
   "execution_count": 2,
   "metadata": {},
   "outputs": [
    {
     "name": "stdout",
     "output_type": "stream",
     "text": [
      "Test OK\n"
     ]
    }
   ],
   "source": [
    "## Testing Code, DO NOT MODIFY\n",
    "## 请运行本 Cell，得到 Test OK 后提交\n",
    "\n",
    "from utils import Test_PA\n",
    "\n",
    "t = Test_PA()\n",
    "t.test(find_peaks)"
   ]
  },
  {
   "cell_type": "code",
   "execution_count": null,
   "metadata": {},
   "outputs": [],
   "source": []
  }
 ],
 "metadata": {
  "anaconda-cloud": {},
  "kernelspec": {
   "display_name": "Python 3",
   "language": "python",
   "name": "python3"
  },
  "language_info": {
   "codemirror_mode": {
    "name": "ipython",
    "version": 3
   },
   "file_extension": ".py",
   "mimetype": "text/x-python",
   "name": "python",
   "nbconvert_exporter": "python",
   "pygments_lexer": "ipython3",
   "version": "3.6.5"
  }
 },
 "nbformat": 4,
 "nbformat_minor": 2
}
